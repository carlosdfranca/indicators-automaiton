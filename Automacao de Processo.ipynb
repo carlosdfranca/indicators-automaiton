{
 "cells": [
  {
   "cell_type": "markdown",
   "metadata": {},
   "source": [
    "### Passo 1 - Importar Arquivos e Bibliotecas"
   ]
  },
  {
   "cell_type": "code",
   "execution_count": 99,
   "metadata": {},
   "outputs": [],
   "source": [
    "#Importar Bibliotecas\n",
    "import pandas as pd\n",
    "from pathlib import Path\n",
    "import win32com.client as win32"
   ]
  },
  {
   "cell_type": "code",
   "execution_count": 100,
   "metadata": {},
   "outputs": [],
   "source": [
    "#Importas Arquivos\n",
    "\n",
    "emails = pd.read_excel(r'Bases de dados\\Emails.xlsx')\n",
    "lojas = pd.read_csv(r'Bases de dados\\Lojas.csv', encoding='latin1', sep=';')\n",
    "vendas = pd.read_excel(r'Bases de dados\\Vendas.xlsx')\n",
    "#display(emails)\n",
    "#display(lojas)\n",
    "#display(vendas)"
   ]
  },
  {
   "cell_type": "markdown",
   "metadata": {},
   "source": [
    "### Passo 2 - Definir Criar uma Tabela para cada Loja e Definir o dia do Indicador"
   ]
  },
  {
   "cell_type": "code",
   "execution_count": 101,
   "metadata": {},
   "outputs": [],
   "source": [
    "# Incluir Lojas em vendas\n",
    "vendas = vendas.merge(lojas, on='ID Loja')"
   ]
  },
  {
   "cell_type": "code",
   "execution_count": 102,
   "metadata": {},
   "outputs": [],
   "source": [
    "#Criando tabela para cada Loja\n",
    "dicionario_loja = {}\n",
    "for loja in lojas['Loja']:\n",
    "    dicionario_loja[loja] = vendas.loc[vendas['Loja'] == loja, :]"
   ]
  },
  {
   "cell_type": "code",
   "execution_count": 103,
   "metadata": {},
   "outputs": [
    {
     "name": "stdout",
     "output_type": "stream",
     "text": [
      "2019-12-26 00:00:00\n"
     ]
    }
   ],
   "source": [
    "dia_indicador = vendas['Data'].max()\n",
    "print(dia_indicador)"
   ]
  },
  {
   "cell_type": "markdown",
   "metadata": {},
   "source": [
    "### Passo 3 - Salvar a planilha na pasta de backup"
   ]
  },
  {
   "cell_type": "code",
   "execution_count": 104,
   "metadata": {},
   "outputs": [],
   "source": [
    "#Identificar se a pasta ja existe\n",
    "caminho_backup = Path(r'Backup Arquivos Lojas')\n",
    "\n",
    "pastas_backup = caminho_backup.iterdir()\n",
    "\n",
    "lista_nomes_backup = [pasta.name for pasta in pastas_backup]\n",
    "\n",
    "for loja in dicionario_loja:\n",
    "    if loja not in lista_nomes_backup:\n",
    "        nova_pasta = caminho_backup / loja\n",
    "        nova_pasta.mkdir()\n",
    "    \n",
    "    #salvar dentro da pasta\n",
    "    nome_arquivo = f'{dia_indicador.month}_{dia_indicador.day}_{loja}.xlsx'\n",
    "    local_arquivo = caminho_backup / loja / nome_arquivo\n",
    "    dicionario_loja[loja].to_excel(local_arquivo, index=False)"
   ]
  },
  {
   "cell_type": "markdown",
   "metadata": {},
   "source": [
    "### Passo 4 - Calcular o indicador para 1 loja"
   ]
  },
  {
   "cell_type": "code",
   "execution_count": 105,
   "metadata": {
    "scrolled": true
   },
   "outputs": [],
   "source": [
    "# Definindo as metas\n",
    "meta_faturamento_ano = 1650000\n",
    "meta_faturamento_dia = 1000\n",
    "meta_diversidade_ano = 120\n",
    "meta_diversidade_dia = 4\n",
    "meta_ticket_ano = 500\n",
    "meta_ticket_dia = 500"
   ]
  },
  {
   "cell_type": "markdown",
   "metadata": {},
   "source": [
    "### Passo 5 - Enviar por e-mail para o gerente"
   ]
  },
  {
   "cell_type": "code",
   "execution_count": 106,
   "metadata": {},
   "outputs": [
    {
     "name": "stdout",
     "output_type": "stream",
     "text": [
      "E-mail da loja Iguatemi Esplanada enviado.\n",
      "E-mail da loja Shopping Midway Mall enviado.\n",
      "E-mail da loja Norte Shopping enviado.\n",
      "E-mail da loja Shopping Iguatemi Fortaleza enviado.\n",
      "E-mail da loja Shopping União de Osasco enviado.\n",
      "E-mail da loja Shopping Center Interlagos enviado.\n",
      "E-mail da loja Rio Mar Recife enviado.\n",
      "E-mail da loja Salvador Shopping enviado.\n",
      "E-mail da loja Rio Mar Shopping Fortaleza enviado.\n",
      "E-mail da loja Shopping Center Leste Aricanduva enviado.\n",
      "E-mail da loja Ribeirão Shopping enviado.\n",
      "E-mail da loja Shopping Morumbi enviado.\n",
      "E-mail da loja Parque Dom Pedro Shopping enviado.\n",
      "E-mail da loja Bourbon Shopping SP enviado.\n",
      "E-mail da loja Palladium Shopping Curitiba enviado.\n",
      "E-mail da loja Passei das Águas Shopping enviado.\n",
      "E-mail da loja Center Shopping Uberlândia enviado.\n",
      "E-mail da loja Shopping Recife enviado.\n",
      "E-mail da loja Shopping Vila Velha enviado.\n",
      "E-mail da loja Shopping SP Market enviado.\n",
      "E-mail da loja Shopping Eldorado enviado.\n",
      "E-mail da loja Shopping Ibirapuera enviado.\n",
      "E-mail da loja Novo Shopping Ribeirão Preto enviado.\n",
      "E-mail da loja Iguatemi Campinas enviado.\n",
      "E-mail da loja Shopping Barra enviado.\n"
     ]
    }
   ],
   "source": [
    "for loja in dicionario_loja:\n",
    "    vendas_loja = dicionario_loja[loja]\n",
    "    vendas_loja_dia = vendas_loja.loc[vendas_loja['Data']==dia_indicador, :]\n",
    "\n",
    "\n",
    "    # Faturamento\n",
    "    faturamento_ano = vendas_loja['Valor Final'].sum()\n",
    "    faturamento_dia = vendas_loja_dia['Valor Final'].sum()\n",
    "\n",
    "    # Diversidade de produtos\n",
    "    quant_produtos_ano = len(vendas_loja['Produto'].unique())\n",
    "    quant_produtos_dia = len(vendas_loja_dia['Produto'].unique())\n",
    "\n",
    "    # Ticket médio por venda\n",
    "    valor_por_venda = vendas_loja.groupby('Código Venda').sum()\n",
    "    ticket_medio_ano = valor_por_venda['Valor Final'].mean()\n",
    "\n",
    "    valor_venda_dia = vendas_loja_dia.groupby('Código Venda').sum()\n",
    "    ticket_medio_dia = valor_venda_dia['Valor Final'].mean()\n",
    "    \n",
    "    \n",
    "    #Enviando E-mail\n",
    "    outlook = win32.Dispatch('outlook.application')\n",
    "\n",
    "    nome = emails.loc[emails['Loja']==loja, 'Gerente'].values[0]\n",
    "    mail = outlook.CreateItem(0)\n",
    "    mail.To = emails.loc[emails['Loja']==loja, 'E-mail'].values[0]\n",
    "    mail.Subject = f'OnePage Dia {dia_indicador.day}/{dia_indicador.month} - Loja {loja}'\n",
    "\n",
    "    #Lógica das cores dos Indicadores\n",
    "    if faturamento_dia >= meta_faturamento_dia:\n",
    "        cor_fat_dia = 'green'\n",
    "    else:\n",
    "        cor_fat_dia = 'red'\n",
    "    if faturamento_ano >= meta_faturamento_ano:\n",
    "        cor_fat_ano = 'green'\n",
    "    else:\n",
    "        cor_fat_ano = 'red'\n",
    "\n",
    "    if quant_produtos_ano >= meta_diversidade_ano:\n",
    "        cor_div_ano = 'green'\n",
    "    else:\n",
    "        cor_div_ano = 'red'\n",
    "    if quant_produtos_dia >= meta_diversidade_dia:\n",
    "        cor_div_dia = 'green'\n",
    "    else:\n",
    "        cor_div_dia = 'red'\n",
    "\n",
    "    if ticket_medio_ano >= meta_ticket_ano:\n",
    "        cor_tik_ano = 'green'\n",
    "    else:\n",
    "        cor_tik_ano = 'red'\n",
    "\n",
    "    if ticket_medio_dia >= meta_ticket_dia:\n",
    "        cor_tik_dia = 'green'\n",
    "    else:\n",
    "        cor_tik_dia = 'red'\n",
    "\n",
    "    #Corpo do E-mail\n",
    "    mail.HTMLBody = f'''\n",
    "    <p>Bom dia, {emails.loc[emails['Loja']==loja, 'Gerente'].values[0]}</p>\n",
    "\n",
    "    <p>O resultado de ontem <strong>(dia {dia_indicador.day}/{dia_indicador.month})</strong> da <strong>Loja {loja}</strong> foi:</p>\n",
    "\n",
    "    <table>\n",
    "      <tr>\n",
    "        <th>Indicador</th>\n",
    "        <th>Valor Dia</th>\n",
    "        <th>Meta Dia</th>\n",
    "        <th>Cenário Dia</th>\n",
    "      </tr>\n",
    "      <tr>\n",
    "        <td>Faturamento</td>\n",
    "        <td style=\"text-align: center\">R${faturamento_dia:.2f}</td>\n",
    "        <td style=\"text-align: center\">R${meta_faturamento_dia:.2f}</td>\n",
    "        <td style=\"text-align: center\"><font color = \"{cor_fat_dia}\">◙</font></td>\n",
    "      </tr>\n",
    "      <tr>\n",
    "        <td>Diversidade de Produtos</td>\n",
    "        <td style=\"text-align: center\">{quant_produtos_dia}</td>\n",
    "        <td style=\"text-align: center\">{meta_diversidade_dia}</td>\n",
    "        <td style=\"text-align: center\"><font color = \"{cor_div_dia}\">◙</font></td>\n",
    "      </tr>\n",
    "      <tr>\n",
    "        <td>Ticket Médio</td>\n",
    "        <td style=\"text-align: center\">R${ticket_medio_dia:.2f}</td>\n",
    "        <td style=\"text-align: center\">R${meta_ticket_dia:.2f}</td>\n",
    "        <td style=\"text-align: center\"><font color = \"{cor_tik_dia}\">◙</font></td>\n",
    "      </tr>\n",
    "\n",
    "    </table>\n",
    "    <br>\n",
    "    <table>\n",
    "      <tr>\n",
    "        <th>Indicador</th>\n",
    "        <th>Valor Ano</th>\n",
    "        <th>Meta Ano</th>\n",
    "        <th>Cenário Ano</th>\n",
    "      </tr>\n",
    "      <tr>\n",
    "        <td>Faturamento</td>\n",
    "        <td style=\"text-align: center\">R${faturamento_ano:.2f}</td>\n",
    "        <td style=\"text-align: center\">R${meta_faturamento_ano:.2f}</td>\n",
    "        <td style=\"text-align: center\"><font color = \"{cor_fat_ano}\">◙</font></td>\n",
    "      </tr>\n",
    "      <tr>\n",
    "        <td>Diversidade de Produtos</td>\n",
    "        <td style=\"text-align: center\">{quant_produtos_ano}</td>\n",
    "        <td style=\"text-align: center\">{meta_diversidade_ano}</td>\n",
    "        <td style=\"text-align: center\"><font color = \"{cor_div_ano}\">◙</font></td>\n",
    "      </tr>\n",
    "      <tr>\n",
    "        <td>Ticket Médio</td>\n",
    "        <td style=\"text-align: center\">R${ticket_medio_ano:.2f}</td>\n",
    "        <td style=\"text-align: center\">R${meta_ticket_ano:.2f}</td>\n",
    "        <td style=\"text-align: center\"><font color = \"{cor_tik_ano}\">◙</font></td>\n",
    "      </tr>\n",
    "\n",
    "    </table>\n",
    "\n",
    "    <p>Segue em anexo a planilha com os dados para mais detalhes.</p>\n",
    "\n",
    "    <p>Qualquer dúvida estou a disposição</p>\n",
    "    <p>Att., Carlos</p>\n",
    "    '''\n",
    "\n",
    "    # Anexos\n",
    "    attachment  = Path.cwd() / caminho_backup / loja / f'{dia_indicador.month}_{dia_indicador.day}_{loja}.xlsx'\n",
    "    mail.Attachments.Add(str(attachment))\n",
    "\n",
    "    mail.Send()\n",
    "    print(f'E-mail da loja {loja} enviado.')"
   ]
  },
  {
   "cell_type": "markdown",
   "metadata": {},
   "source": [
    "### Passo 6 - Automatizar todas as lojas"
   ]
  },
  {
   "cell_type": "markdown",
   "metadata": {},
   "source": [
    "### Passo 7 - Criar ranking para diretoria"
   ]
  },
  {
   "cell_type": "code",
   "execution_count": 107,
   "metadata": {},
   "outputs": [],
   "source": [
    "#Faturamento Anual por Loja\n",
    "faturamento_loja = vendas.groupby('Loja')[['Loja', 'Valor Final']].sum()\n",
    "faturamento_loja_ano = faturamento_loja.sort_values('Valor Final', ascending=False)\n",
    "nome_arquivo = f'{dia_indicador.month}_{dia_indicador.day}_Ranking Anual.xlsx'\n",
    "faturamento_loja_ano.to_excel(r'Backup Arquivos Lojas\\{}'.format(nome_arquivo))\n",
    "\n",
    "#Faturamento do dia por Loja\n",
    "vendas_dia = vendas.loc[vendas['Data']==dia_indicador, :]\n",
    "faturamento_loja_dia = vendas_dia.groupby('Loja')[['Loja', 'Valor Final']].sum()\n",
    "faturamento_loja_dia = faturamento_loja_dia.sort_values('Valor Final', ascending=False)\n",
    "nome_arquivo = f'{dia_indicador.month}_{dia_indicador.day}_Ranking Dia.xlsx'\n",
    "faturamento_loja_dia.to_excel(r'Backup Arquivos Lojas\\{}'.format(nome_arquivo))"
   ]
  },
  {
   "cell_type": "markdown",
   "metadata": {},
   "source": [
    "### Passo 8 - Enviar e-mail para diretoria"
   ]
  },
  {
   "cell_type": "code",
   "execution_count": 108,
   "metadata": {},
   "outputs": [
    {
     "name": "stdout",
     "output_type": "stream",
     "text": [
      "E-mail da Diretoria Shopping Barra enviado.\n"
     ]
    }
   ],
   "source": [
    "outlook = win32.Dispatch('outlook.application')\n",
    "\n",
    "mail = outlook.CreateItem(0)\n",
    "mail.To = emails.loc[emails['Loja']=='Diretoria', 'E-mail'].values[0]\n",
    "mail.Subject = f'Ranking Dia {dia_indicador.day}/{dia_indicador.month}'\n",
    "mail.Body = f'''\n",
    "Prezados, bom dia!\n",
    "\n",
    "Melhor loja do dia em faturamento: Loja {faturamento_loja_dia.index[0]}, com faruramento de R${faturamento_loja_dia.iloc[0,0]:.2f}.\n",
    "Pior loja do dia em faturamento: Loja {faturamento_loja_dia.index[-1]}, com faturamento de R${faturamento_loja_dia.iloc[-1,0]:.2f}.\n",
    "\n",
    "Melhor loja do ano em faturamento: Loja {faturamento_loja_ano.index[0]}, com faruramento de R${faturamento_loja_ano.iloc[0,0]:.2f}.\n",
    "Pior loja do ano em faturamento: Loja {faturamento_loja_ano.index[-1]}, com faturamento de R${faturamento_loja_ano.iloc[-1,0]:.2f}.\n",
    "\n",
    "Segue anexado o rankind do ano e do dia das Lojas.\n",
    "\n",
    "Qualquer dúvida estou a disposição.\n",
    "\n",
    "Att.,\n",
    "Carlos.\n",
    "'''\n",
    "\n",
    "# Anexos\n",
    "attachment  = Path.cwd() / caminho_backup / f'{dia_indicador.month}_{dia_indicador.day}_Ranking Anual.xlsx'\n",
    "mail.Attachments.Add(str(attachment))\n",
    "attachment  = Path.cwd() / caminho_backup / f'{dia_indicador.month}_{dia_indicador.day}_Ranking Dia.xlsx'\n",
    "mail.Attachments.Add(str(attachment))\n",
    "\n",
    "mail.Send()\n",
    "print(f'E-mail da Diretoria {loja} enviado.')"
   ]
  }
 ],
 "metadata": {
  "kernelspec": {
   "display_name": "Python 3 (ipykernel)",
   "language": "python",
   "name": "python3"
  },
  "language_info": {
   "codemirror_mode": {
    "name": "ipython",
    "version": 3
   },
   "file_extension": ".py",
   "mimetype": "text/x-python",
   "name": "python",
   "nbconvert_exporter": "python",
   "pygments_lexer": "ipython3",
   "version": "3.9.7"
  }
 },
 "nbformat": 4,
 "nbformat_minor": 4
}
